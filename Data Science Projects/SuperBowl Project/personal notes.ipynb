# Create list areas
areas = [11.25, 18.0, 20.0, 10.75, 9.50]

# Create areas_copy
areas_copy = list(areas)  #if just areas_copy = areas.... areas[0] will have been 5.0 after next line of code

# Change areas_copy
areas_copy[0] = 5.0

# Print areas
print(areas)