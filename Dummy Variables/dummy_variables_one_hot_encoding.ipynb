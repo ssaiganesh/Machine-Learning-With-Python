{
 "cells": [
  {
   "cell_type": "markdown",
   "metadata": {},
   "source": [
    "# Dummy Variables"
   ]
  },
  {
   "cell_type": "markdown",
   "metadata": {},
   "source": [
    "Under categorical variables, we have nominal and ordinal variables.\n",
    "One hot encoding is used to assign a digit to text variables.  "
   ]
  },
  {
   "cell_type": "code",
   "execution_count": 36,
   "metadata": {},
   "outputs": [],
   "source": [
    "import pandas as pd"
   ]
  },
  {
   "cell_type": "code",
   "execution_count": 37,
   "metadata": {},
   "outputs": [],
   "source": [
    "url  = 'https://raw.githubusercontent.com/codebasics/py/master/ML/5_one_hot_encoding/homeprices.csv'\n",
    "df = pd.read_csv(url, error_bad_lines = False)\n"
   ]
  },
  {
   "cell_type": "code",
   "execution_count": 38,
   "metadata": {},
   "outputs": [
    {
     "output_type": "execute_result",
     "data": {
      "text/plain": "               town  area   price\n0   monroe township  2600  550000\n1   monroe township  3000  565000\n2   monroe township  3200  610000\n3   monroe township  3600  680000\n4   monroe township  4000  725000\n5      west windsor  2600  585000\n6      west windsor  2800  615000\n7      west windsor  3300  650000\n8      west windsor  3600  710000\n9       robinsville  2600  575000\n10      robinsville  2900  600000\n11      robinsville  3100  620000\n12      robinsville  3600  695000",
      "text/html": "<div>\n<style scoped>\n    .dataframe tbody tr th:only-of-type {\n        vertical-align: middle;\n    }\n\n    .dataframe tbody tr th {\n        vertical-align: top;\n    }\n\n    .dataframe thead th {\n        text-align: right;\n    }\n</style>\n<table border=\"1\" class=\"dataframe\">\n  <thead>\n    <tr style=\"text-align: right;\">\n      <th></th>\n      <th>town</th>\n      <th>area</th>\n      <th>price</th>\n    </tr>\n  </thead>\n  <tbody>\n    <tr>\n      <th>0</th>\n      <td>monroe township</td>\n      <td>2600</td>\n      <td>550000</td>\n    </tr>\n    <tr>\n      <th>1</th>\n      <td>monroe township</td>\n      <td>3000</td>\n      <td>565000</td>\n    </tr>\n    <tr>\n      <th>2</th>\n      <td>monroe township</td>\n      <td>3200</td>\n      <td>610000</td>\n    </tr>\n    <tr>\n      <th>3</th>\n      <td>monroe township</td>\n      <td>3600</td>\n      <td>680000</td>\n    </tr>\n    <tr>\n      <th>4</th>\n      <td>monroe township</td>\n      <td>4000</td>\n      <td>725000</td>\n    </tr>\n    <tr>\n      <th>5</th>\n      <td>west windsor</td>\n      <td>2600</td>\n      <td>585000</td>\n    </tr>\n    <tr>\n      <th>6</th>\n      <td>west windsor</td>\n      <td>2800</td>\n      <td>615000</td>\n    </tr>\n    <tr>\n      <th>7</th>\n      <td>west windsor</td>\n      <td>3300</td>\n      <td>650000</td>\n    </tr>\n    <tr>\n      <th>8</th>\n      <td>west windsor</td>\n      <td>3600</td>\n      <td>710000</td>\n    </tr>\n    <tr>\n      <th>9</th>\n      <td>robinsville</td>\n      <td>2600</td>\n      <td>575000</td>\n    </tr>\n    <tr>\n      <th>10</th>\n      <td>robinsville</td>\n      <td>2900</td>\n      <td>600000</td>\n    </tr>\n    <tr>\n      <th>11</th>\n      <td>robinsville</td>\n      <td>3100</td>\n      <td>620000</td>\n    </tr>\n    <tr>\n      <th>12</th>\n      <td>robinsville</td>\n      <td>3600</td>\n      <td>695000</td>\n    </tr>\n  </tbody>\n</table>\n</div>"
     },
     "metadata": {},
     "execution_count": 38
    }
   ],
   "source": [
    "df"
   ]
  },
  {
   "cell_type": "markdown",
   "metadata": {},
   "source": [
    "dummies = pd.get_dummies(df.town)\n",
    "dummies"
   ]
  },
  {
   "cell_type": "code",
   "execution_count": 39,
   "metadata": {},
   "outputs": [],
   "source": [
    "merged = pd.concat([df,dummies], axis = 'columns')"
   ]
  },
  {
   "cell_type": "code",
   "execution_count": 40,
   "metadata": {},
   "outputs": [
    {
     "output_type": "execute_result",
     "data": {
      "text/plain": "               town  area   price  monroe township  robinsville  west windsor\n0   monroe township  2600  550000                1            0             0\n1   monroe township  3000  565000                1            0             0\n2   monroe township  3200  610000                1            0             0\n3   monroe township  3600  680000                1            0             0\n4   monroe township  4000  725000                1            0             0\n5      west windsor  2600  585000                0            0             1\n6      west windsor  2800  615000                0            0             1\n7      west windsor  3300  650000                0            0             1\n8      west windsor  3600  710000                0            0             1\n9       robinsville  2600  575000                0            1             0\n10      robinsville  2900  600000                0            1             0\n11      robinsville  3100  620000                0            1             0\n12      robinsville  3600  695000                0            1             0",
      "text/html": "<div>\n<style scoped>\n    .dataframe tbody tr th:only-of-type {\n        vertical-align: middle;\n    }\n\n    .dataframe tbody tr th {\n        vertical-align: top;\n    }\n\n    .dataframe thead th {\n        text-align: right;\n    }\n</style>\n<table border=\"1\" class=\"dataframe\">\n  <thead>\n    <tr style=\"text-align: right;\">\n      <th></th>\n      <th>town</th>\n      <th>area</th>\n      <th>price</th>\n      <th>monroe township</th>\n      <th>robinsville</th>\n      <th>west windsor</th>\n    </tr>\n  </thead>\n  <tbody>\n    <tr>\n      <th>0</th>\n      <td>monroe township</td>\n      <td>2600</td>\n      <td>550000</td>\n      <td>1</td>\n      <td>0</td>\n      <td>0</td>\n    </tr>\n    <tr>\n      <th>1</th>\n      <td>monroe township</td>\n      <td>3000</td>\n      <td>565000</td>\n      <td>1</td>\n      <td>0</td>\n      <td>0</td>\n    </tr>\n    <tr>\n      <th>2</th>\n      <td>monroe township</td>\n      <td>3200</td>\n      <td>610000</td>\n      <td>1</td>\n      <td>0</td>\n      <td>0</td>\n    </tr>\n    <tr>\n      <th>3</th>\n      <td>monroe township</td>\n      <td>3600</td>\n      <td>680000</td>\n      <td>1</td>\n      <td>0</td>\n      <td>0</td>\n    </tr>\n    <tr>\n      <th>4</th>\n      <td>monroe township</td>\n      <td>4000</td>\n      <td>725000</td>\n      <td>1</td>\n      <td>0</td>\n      <td>0</td>\n    </tr>\n    <tr>\n      <th>5</th>\n      <td>west windsor</td>\n      <td>2600</td>\n      <td>585000</td>\n      <td>0</td>\n      <td>0</td>\n      <td>1</td>\n    </tr>\n    <tr>\n      <th>6</th>\n      <td>west windsor</td>\n      <td>2800</td>\n      <td>615000</td>\n      <td>0</td>\n      <td>0</td>\n      <td>1</td>\n    </tr>\n    <tr>\n      <th>7</th>\n      <td>west windsor</td>\n      <td>3300</td>\n      <td>650000</td>\n      <td>0</td>\n      <td>0</td>\n      <td>1</td>\n    </tr>\n    <tr>\n      <th>8</th>\n      <td>west windsor</td>\n      <td>3600</td>\n      <td>710000</td>\n      <td>0</td>\n      <td>0</td>\n      <td>1</td>\n    </tr>\n    <tr>\n      <th>9</th>\n      <td>robinsville</td>\n      <td>2600</td>\n      <td>575000</td>\n      <td>0</td>\n      <td>1</td>\n      <td>0</td>\n    </tr>\n    <tr>\n      <th>10</th>\n      <td>robinsville</td>\n      <td>2900</td>\n      <td>600000</td>\n      <td>0</td>\n      <td>1</td>\n      <td>0</td>\n    </tr>\n    <tr>\n      <th>11</th>\n      <td>robinsville</td>\n      <td>3100</td>\n      <td>620000</td>\n      <td>0</td>\n      <td>1</td>\n      <td>0</td>\n    </tr>\n    <tr>\n      <th>12</th>\n      <td>robinsville</td>\n      <td>3600</td>\n      <td>695000</td>\n      <td>0</td>\n      <td>1</td>\n      <td>0</td>\n    </tr>\n  </tbody>\n</table>\n</div>"
     },
     "metadata": {},
     "execution_count": 40
    }
   ],
   "source": [
    "merged"
   ]
  },
  {
   "cell_type": "markdown",
   "metadata": {},
   "source": [
    "dummy variable trap so have to delete one of the columns of the dummy variable.  and definitely have to delete the text variable column of town. \n",
    "why trap? because one of the dummy variables can be known if the other 2 dummy variables are already known. Therefore, no use to list them out. "
   ]
  },
  {
   "cell_type": "code",
   "execution_count": 41,
   "metadata": {},
   "outputs": [],
   "source": [
    "final = merged.drop(['town', 'west windsor'], axis = 'columns')"
   ]
  },
  {
   "cell_type": "code",
   "execution_count": 42,
   "metadata": {},
   "outputs": [
    {
     "output_type": "execute_result",
     "data": {
      "text/plain": "    area   price  monroe township  robinsville\n0   2600  550000                1            0\n1   3000  565000                1            0\n2   3200  610000                1            0\n3   3600  680000                1            0\n4   4000  725000                1            0\n5   2600  585000                0            0\n6   2800  615000                0            0\n7   3300  650000                0            0\n8   3600  710000                0            0\n9   2600  575000                0            1\n10  2900  600000                0            1\n11  3100  620000                0            1\n12  3600  695000                0            1",
      "text/html": "<div>\n<style scoped>\n    .dataframe tbody tr th:only-of-type {\n        vertical-align: middle;\n    }\n\n    .dataframe tbody tr th {\n        vertical-align: top;\n    }\n\n    .dataframe thead th {\n        text-align: right;\n    }\n</style>\n<table border=\"1\" class=\"dataframe\">\n  <thead>\n    <tr style=\"text-align: right;\">\n      <th></th>\n      <th>area</th>\n      <th>price</th>\n      <th>monroe township</th>\n      <th>robinsville</th>\n    </tr>\n  </thead>\n  <tbody>\n    <tr>\n      <th>0</th>\n      <td>2600</td>\n      <td>550000</td>\n      <td>1</td>\n      <td>0</td>\n    </tr>\n    <tr>\n      <th>1</th>\n      <td>3000</td>\n      <td>565000</td>\n      <td>1</td>\n      <td>0</td>\n    </tr>\n    <tr>\n      <th>2</th>\n      <td>3200</td>\n      <td>610000</td>\n      <td>1</td>\n      <td>0</td>\n    </tr>\n    <tr>\n      <th>3</th>\n      <td>3600</td>\n      <td>680000</td>\n      <td>1</td>\n      <td>0</td>\n    </tr>\n    <tr>\n      <th>4</th>\n      <td>4000</td>\n      <td>725000</td>\n      <td>1</td>\n      <td>0</td>\n    </tr>\n    <tr>\n      <th>5</th>\n      <td>2600</td>\n      <td>585000</td>\n      <td>0</td>\n      <td>0</td>\n    </tr>\n    <tr>\n      <th>6</th>\n      <td>2800</td>\n      <td>615000</td>\n      <td>0</td>\n      <td>0</td>\n    </tr>\n    <tr>\n      <th>7</th>\n      <td>3300</td>\n      <td>650000</td>\n      <td>0</td>\n      <td>0</td>\n    </tr>\n    <tr>\n      <th>8</th>\n      <td>3600</td>\n      <td>710000</td>\n      <td>0</td>\n      <td>0</td>\n    </tr>\n    <tr>\n      <th>9</th>\n      <td>2600</td>\n      <td>575000</td>\n      <td>0</td>\n      <td>1</td>\n    </tr>\n    <tr>\n      <th>10</th>\n      <td>2900</td>\n      <td>600000</td>\n      <td>0</td>\n      <td>1</td>\n    </tr>\n    <tr>\n      <th>11</th>\n      <td>3100</td>\n      <td>620000</td>\n      <td>0</td>\n      <td>1</td>\n    </tr>\n    <tr>\n      <th>12</th>\n      <td>3600</td>\n      <td>695000</td>\n      <td>0</td>\n      <td>1</td>\n    </tr>\n  </tbody>\n</table>\n</div>"
     },
     "metadata": {},
     "execution_count": 42
    }
   ],
   "source": [
    "final"
   ]
  },
  {
   "cell_type": "code",
   "execution_count": 43,
   "metadata": {},
   "outputs": [],
   "source": [
    "from sklearn.linear_model import LinearRegression"
   ]
  },
  {
   "cell_type": "code",
   "execution_count": 44,
   "metadata": {},
   "outputs": [],
   "source": [
    "model = LinearRegression()"
   ]
  },
  {
   "cell_type": "code",
   "execution_count": 45,
   "metadata": {},
   "outputs": [],
   "source": [
    "X = final.drop('price', axis = 'columns')"
   ]
  },
  {
   "cell_type": "code",
   "execution_count": 46,
   "metadata": {},
   "outputs": [
    {
     "output_type": "execute_result",
     "data": {
      "text/plain": "    area  monroe township  robinsville\n0   2600                1            0\n1   3000                1            0\n2   3200                1            0\n3   3600                1            0\n4   4000                1            0\n5   2600                0            0\n6   2800                0            0\n7   3300                0            0\n8   3600                0            0\n9   2600                0            1\n10  2900                0            1\n11  3100                0            1\n12  3600                0            1",
      "text/html": "<div>\n<style scoped>\n    .dataframe tbody tr th:only-of-type {\n        vertical-align: middle;\n    }\n\n    .dataframe tbody tr th {\n        vertical-align: top;\n    }\n\n    .dataframe thead th {\n        text-align: right;\n    }\n</style>\n<table border=\"1\" class=\"dataframe\">\n  <thead>\n    <tr style=\"text-align: right;\">\n      <th></th>\n      <th>area</th>\n      <th>monroe township</th>\n      <th>robinsville</th>\n    </tr>\n  </thead>\n  <tbody>\n    <tr>\n      <th>0</th>\n      <td>2600</td>\n      <td>1</td>\n      <td>0</td>\n    </tr>\n    <tr>\n      <th>1</th>\n      <td>3000</td>\n      <td>1</td>\n      <td>0</td>\n    </tr>\n    <tr>\n      <th>2</th>\n      <td>3200</td>\n      <td>1</td>\n      <td>0</td>\n    </tr>\n    <tr>\n      <th>3</th>\n      <td>3600</td>\n      <td>1</td>\n      <td>0</td>\n    </tr>\n    <tr>\n      <th>4</th>\n      <td>4000</td>\n      <td>1</td>\n      <td>0</td>\n    </tr>\n    <tr>\n      <th>5</th>\n      <td>2600</td>\n      <td>0</td>\n      <td>0</td>\n    </tr>\n    <tr>\n      <th>6</th>\n      <td>2800</td>\n      <td>0</td>\n      <td>0</td>\n    </tr>\n    <tr>\n      <th>7</th>\n      <td>3300</td>\n      <td>0</td>\n      <td>0</td>\n    </tr>\n    <tr>\n      <th>8</th>\n      <td>3600</td>\n      <td>0</td>\n      <td>0</td>\n    </tr>\n    <tr>\n      <th>9</th>\n      <td>2600</td>\n      <td>0</td>\n      <td>1</td>\n    </tr>\n    <tr>\n      <th>10</th>\n      <td>2900</td>\n      <td>0</td>\n      <td>1</td>\n    </tr>\n    <tr>\n      <th>11</th>\n      <td>3100</td>\n      <td>0</td>\n      <td>1</td>\n    </tr>\n    <tr>\n      <th>12</th>\n      <td>3600</td>\n      <td>0</td>\n      <td>1</td>\n    </tr>\n  </tbody>\n</table>\n</div>"
     },
     "metadata": {},
     "execution_count": 46
    }
   ],
   "source": [
    "X"
   ]
  },
  {
   "cell_type": "code",
   "execution_count": 47,
   "metadata": {},
   "outputs": [],
   "source": [
    "y = final.price"
   ]
  },
  {
   "cell_type": "code",
   "execution_count": 48,
   "metadata": {},
   "outputs": [
    {
     "output_type": "execute_result",
     "data": {
      "text/plain": "0     550000\n1     565000\n2     610000\n3     680000\n4     725000\n5     585000\n6     615000\n7     650000\n8     710000\n9     575000\n10    600000\n11    620000\n12    695000\nName: price, dtype: int64"
     },
     "metadata": {},
     "execution_count": 48
    }
   ],
   "source": [
    "y"
   ]
  },
  {
   "cell_type": "code",
   "execution_count": 49,
   "metadata": {},
   "outputs": [
    {
     "output_type": "execute_result",
     "data": {
      "text/plain": "LinearRegression()"
     },
     "metadata": {},
     "execution_count": 49
    }
   ],
   "source": [
    "model.fit(X,y)"
   ]
  },
  {
   "cell_type": "code",
   "execution_count": 50,
   "metadata": {},
   "outputs": [
    {
     "output_type": "execute_result",
     "data": {
      "text/plain": "array([590775.63964739])"
     },
     "metadata": {},
     "execution_count": 50
    }
   ],
   "source": [
    "model.predict([[2800,0,1]])"
   ]
  },
  {
   "cell_type": "code",
   "execution_count": 51,
   "metadata": {},
   "outputs": [
    {
     "output_type": "execute_result",
     "data": {
      "text/plain": "array([681241.66845839])"
     },
     "metadata": {},
     "execution_count": 51
    }
   ],
   "source": [
    "model.predict([[3400,0,0]])"
   ]
  },
  {
   "cell_type": "code",
   "execution_count": 52,
   "metadata": {},
   "outputs": [
    {
     "output_type": "execute_result",
     "data": {
      "text/plain": "0.9573929037221873"
     },
     "metadata": {},
     "execution_count": 52
    }
   ],
   "source": [
    "model.score(X,y) #Check accuracy"
   ]
  },
  {
   "cell_type": "markdown",
   "metadata": {},
   "source": [
    "# One Hot Encoding"
   ]
  },
  {
   "cell_type": "code",
   "execution_count": 53,
   "metadata": {},
   "outputs": [],
   "source": [
    "from sklearn.preprocessing import LabelEncoder\n",
    "le = LabelEncoder()"
   ]
  },
  {
   "cell_type": "code",
   "execution_count": 54,
   "metadata": {},
   "outputs": [
    {
     "output_type": "execute_result",
     "data": {
      "text/plain": "    town  area   price\n0      0  2600  550000\n1      0  3000  565000\n2      0  3200  610000\n3      0  3600  680000\n4      0  4000  725000\n5      2  2600  585000\n6      2  2800  615000\n7      2  3300  650000\n8      2  3600  710000\n9      1  2600  575000\n10     1  2900  600000\n11     1  3100  620000\n12     1  3600  695000",
      "text/html": "<div>\n<style scoped>\n    .dataframe tbody tr th:only-of-type {\n        vertical-align: middle;\n    }\n\n    .dataframe tbody tr th {\n        vertical-align: top;\n    }\n\n    .dataframe thead th {\n        text-align: right;\n    }\n</style>\n<table border=\"1\" class=\"dataframe\">\n  <thead>\n    <tr style=\"text-align: right;\">\n      <th></th>\n      <th>town</th>\n      <th>area</th>\n      <th>price</th>\n    </tr>\n  </thead>\n  <tbody>\n    <tr>\n      <th>0</th>\n      <td>0</td>\n      <td>2600</td>\n      <td>550000</td>\n    </tr>\n    <tr>\n      <th>1</th>\n      <td>0</td>\n      <td>3000</td>\n      <td>565000</td>\n    </tr>\n    <tr>\n      <th>2</th>\n      <td>0</td>\n      <td>3200</td>\n      <td>610000</td>\n    </tr>\n    <tr>\n      <th>3</th>\n      <td>0</td>\n      <td>3600</td>\n      <td>680000</td>\n    </tr>\n    <tr>\n      <th>4</th>\n      <td>0</td>\n      <td>4000</td>\n      <td>725000</td>\n    </tr>\n    <tr>\n      <th>5</th>\n      <td>2</td>\n      <td>2600</td>\n      <td>585000</td>\n    </tr>\n    <tr>\n      <th>6</th>\n      <td>2</td>\n      <td>2800</td>\n      <td>615000</td>\n    </tr>\n    <tr>\n      <th>7</th>\n      <td>2</td>\n      <td>3300</td>\n      <td>650000</td>\n    </tr>\n    <tr>\n      <th>8</th>\n      <td>2</td>\n      <td>3600</td>\n      <td>710000</td>\n    </tr>\n    <tr>\n      <th>9</th>\n      <td>1</td>\n      <td>2600</td>\n      <td>575000</td>\n    </tr>\n    <tr>\n      <th>10</th>\n      <td>1</td>\n      <td>2900</td>\n      <td>600000</td>\n    </tr>\n    <tr>\n      <th>11</th>\n      <td>1</td>\n      <td>3100</td>\n      <td>620000</td>\n    </tr>\n    <tr>\n      <th>12</th>\n      <td>1</td>\n      <td>3600</td>\n      <td>695000</td>\n    </tr>\n  </tbody>\n</table>\n</div>"
     },
     "metadata": {},
     "execution_count": 54
    }
   ],
   "source": [
    "dfle = df\n",
    "dfle.town = le.fit_transform(dfle.town)\n",
    "dfle"
   ]
  },
  {
   "cell_type": "code",
   "execution_count": 55,
   "metadata": {},
   "outputs": [
    {
     "output_type": "execute_result",
     "data": {
      "text/plain": "array([[   0, 2600],\n       [   0, 3000],\n       [   0, 3200],\n       [   0, 3600],\n       [   0, 4000],\n       [   2, 2600],\n       [   2, 2800],\n       [   2, 3300],\n       [   2, 3600],\n       [   1, 2600],\n       [   1, 2900],\n       [   1, 3100],\n       [   1, 3600]], dtype=int64)"
     },
     "metadata": {},
     "execution_count": 55
    }
   ],
   "source": [
    "X = df[['town','area']].values\n",
    "X"
   ]
  },
  {
   "cell_type": "code",
   "execution_count": 56,
   "metadata": {},
   "outputs": [
    {
     "output_type": "execute_result",
     "data": {
      "text/plain": "0     550000\n1     565000\n2     610000\n3     680000\n4     725000\n5     585000\n6     615000\n7     650000\n8     710000\n9     575000\n10    600000\n11    620000\n12    695000\nName: price, dtype: int64"
     },
     "metadata": {},
     "execution_count": 56
    }
   ],
   "source": [
    "y = dfle.price\n",
    "y"
   ]
  },
  {
   "cell_type": "code",
   "execution_count": 61,
   "metadata": {},
   "outputs": [],
   "source": [
    "from sklearn.preprocessing import OneHotEncoder\n",
    "from sklearn.compose import ColumnTransformer\n",
    "ct = ColumnTransformer([('town', OneHotEncoder(), [0])], remainder = 'passthrough')"
   ]
  },
  {
   "cell_type": "code",
   "execution_count": 62,
   "metadata": {},
   "outputs": [
    {
     "output_type": "execute_result",
     "data": {
      "text/plain": "array([[1.0e+00, 0.0e+00, 0.0e+00, 2.6e+03],\n       [1.0e+00, 0.0e+00, 0.0e+00, 3.0e+03],\n       [1.0e+00, 0.0e+00, 0.0e+00, 3.2e+03],\n       [1.0e+00, 0.0e+00, 0.0e+00, 3.6e+03],\n       [1.0e+00, 0.0e+00, 0.0e+00, 4.0e+03],\n       [0.0e+00, 0.0e+00, 1.0e+00, 2.6e+03],\n       [0.0e+00, 0.0e+00, 1.0e+00, 2.8e+03],\n       [0.0e+00, 0.0e+00, 1.0e+00, 3.3e+03],\n       [0.0e+00, 0.0e+00, 1.0e+00, 3.6e+03],\n       [0.0e+00, 1.0e+00, 0.0e+00, 2.6e+03],\n       [0.0e+00, 1.0e+00, 0.0e+00, 2.9e+03],\n       [0.0e+00, 1.0e+00, 0.0e+00, 3.1e+03],\n       [0.0e+00, 1.0e+00, 0.0e+00, 3.6e+03]])"
     },
     "metadata": {},
     "execution_count": 62
    }
   ],
   "source": [
    "X = ct.fit_transform(X)\n",
    "X"
   ]
  },
  {
   "cell_type": "code",
   "execution_count": 63,
   "metadata": {},
   "outputs": [
    {
     "output_type": "execute_result",
     "data": {
      "text/plain": "array([[0.0e+00, 0.0e+00, 2.6e+03],\n       [0.0e+00, 0.0e+00, 3.0e+03],\n       [0.0e+00, 0.0e+00, 3.2e+03],\n       [0.0e+00, 0.0e+00, 3.6e+03],\n       [0.0e+00, 0.0e+00, 4.0e+03],\n       [0.0e+00, 1.0e+00, 2.6e+03],\n       [0.0e+00, 1.0e+00, 2.8e+03],\n       [0.0e+00, 1.0e+00, 3.3e+03],\n       [0.0e+00, 1.0e+00, 3.6e+03],\n       [1.0e+00, 0.0e+00, 2.6e+03],\n       [1.0e+00, 0.0e+00, 2.9e+03],\n       [1.0e+00, 0.0e+00, 3.1e+03],\n       [1.0e+00, 0.0e+00, 3.6e+03]])"
     },
     "metadata": {},
     "execution_count": 63
    }
   ],
   "source": [
    "X = X[:, 1:] # drop zeroth column\n",
    "X"
   ]
  },
  {
   "cell_type": "code",
   "execution_count": 64,
   "metadata": {},
   "outputs": [
    {
     "output_type": "execute_result",
     "data": {
      "text/plain": "LinearRegression()"
     },
     "metadata": {},
     "execution_count": 64
    }
   ],
   "source": [
    "model.fit(X,y)"
   ]
  },
  {
   "cell_type": "code",
   "execution_count": 66,
   "metadata": {},
   "outputs": [
    {
     "output_type": "execute_result",
     "data": {
      "text/plain": "array([590775.63964739])"
     },
     "metadata": {},
     "execution_count": 66
    }
   ],
   "source": [
    "model.predict([[1,0,2800]]) #price in robinsvilee"
   ]
  },
  {
   "cell_type": "code",
   "execution_count": 69,
   "metadata": {},
   "outputs": [
    {
     "output_type": "execute_result",
     "data": {
      "text/plain": "array([681241.6684584])"
     },
     "metadata": {},
     "execution_count": 69
    }
   ],
   "source": [
    "model.predict([[0,1,3400]]) #same answers as before"
   ]
  },
  {
   "cell_type": "markdown",
   "metadata": {},
   "source": [
    "These are 2 methods, One Hot Encoding and Dummy Variables. Choose any one and you will get the same answers for both. "
   ]
  },
  {
   "cell_type": "markdown",
   "metadata": {},
   "source": [
    "## Exercise"
   ]
  },
  {
   "cell_type": "markdown",
   "metadata": {},
   "source": [
    "predict price of a mercedes benz that is 4 year old with mileage 45000 <br>\n",
    "predict price of a BMW X5 that is 7yr old with mileage 86000\n",
    "\n",
    "And show the score of the model(accuracy)"
   ]
  },
  {
   "cell_type": "code",
   "execution_count": 71,
   "metadata": {},
   "outputs": [
    {
     "output_type": "execute_result",
     "data": {
      "text/plain": "                Car Model  Mileage  Sell Price($)  Age(yrs)\n0                  BMW X5    69000          18000         6\n1                  BMW X5    35000          34000         3\n2                  BMW X5    57000          26100         5\n3                  BMW X5    22500          40000         2\n4                  BMW X5    46000          31500         4\n5                 Audi A5    59000          29400         5\n6                 Audi A5    52000          32000         5\n7                 Audi A5    72000          19300         6\n8                 Audi A5    91000          12000         8\n9   Mercedez Benz C class    67000          22000         6\n10  Mercedez Benz C class    83000          20000         7\n11  Mercedez Benz C class    79000          21000         7\n12  Mercedez Benz C class    59000          33000         5",
      "text/html": "<div>\n<style scoped>\n    .dataframe tbody tr th:only-of-type {\n        vertical-align: middle;\n    }\n\n    .dataframe tbody tr th {\n        vertical-align: top;\n    }\n\n    .dataframe thead th {\n        text-align: right;\n    }\n</style>\n<table border=\"1\" class=\"dataframe\">\n  <thead>\n    <tr style=\"text-align: right;\">\n      <th></th>\n      <th>Car Model</th>\n      <th>Mileage</th>\n      <th>Sell Price($)</th>\n      <th>Age(yrs)</th>\n    </tr>\n  </thead>\n  <tbody>\n    <tr>\n      <th>0</th>\n      <td>BMW X5</td>\n      <td>69000</td>\n      <td>18000</td>\n      <td>6</td>\n    </tr>\n    <tr>\n      <th>1</th>\n      <td>BMW X5</td>\n      <td>35000</td>\n      <td>34000</td>\n      <td>3</td>\n    </tr>\n    <tr>\n      <th>2</th>\n      <td>BMW X5</td>\n      <td>57000</td>\n      <td>26100</td>\n      <td>5</td>\n    </tr>\n    <tr>\n      <th>3</th>\n      <td>BMW X5</td>\n      <td>22500</td>\n      <td>40000</td>\n      <td>2</td>\n    </tr>\n    <tr>\n      <th>4</th>\n      <td>BMW X5</td>\n      <td>46000</td>\n      <td>31500</td>\n      <td>4</td>\n    </tr>\n    <tr>\n      <th>5</th>\n      <td>Audi A5</td>\n      <td>59000</td>\n      <td>29400</td>\n      <td>5</td>\n    </tr>\n    <tr>\n      <th>6</th>\n      <td>Audi A5</td>\n      <td>52000</td>\n      <td>32000</td>\n      <td>5</td>\n    </tr>\n    <tr>\n      <th>7</th>\n      <td>Audi A5</td>\n      <td>72000</td>\n      <td>19300</td>\n      <td>6</td>\n    </tr>\n    <tr>\n      <th>8</th>\n      <td>Audi A5</td>\n      <td>91000</td>\n      <td>12000</td>\n      <td>8</td>\n    </tr>\n    <tr>\n      <th>9</th>\n      <td>Mercedez Benz C class</td>\n      <td>67000</td>\n      <td>22000</td>\n      <td>6</td>\n    </tr>\n    <tr>\n      <th>10</th>\n      <td>Mercedez Benz C class</td>\n      <td>83000</td>\n      <td>20000</td>\n      <td>7</td>\n    </tr>\n    <tr>\n      <th>11</th>\n      <td>Mercedez Benz C class</td>\n      <td>79000</td>\n      <td>21000</td>\n      <td>7</td>\n    </tr>\n    <tr>\n      <th>12</th>\n      <td>Mercedez Benz C class</td>\n      <td>59000</td>\n      <td>33000</td>\n      <td>5</td>\n    </tr>\n  </tbody>\n</table>\n</div>"
     },
     "metadata": {},
     "execution_count": 71
    }
   ],
   "source": [
    "url1  = 'https://raw.githubusercontent.com/codebasics/py/master/ML/5_one_hot_encoding/Exercise/carprices.csv'\n",
    "df1  = pd.read_csv(url1, error_bad_lines=False)\n",
    "df1"
   ]
  },
  {
   "cell_type": "code",
   "execution_count": 73,
   "metadata": {},
   "outputs": [],
   "source": [
    "dummies1 = pd.get_dummies(df1['Car Model'])"
   ]
  },
  {
   "cell_type": "code",
   "execution_count": 74,
   "metadata": {},
   "outputs": [
    {
     "output_type": "execute_result",
     "data": {
      "text/plain": "    Audi A5  BMW X5  Mercedez Benz C class\n0         0       1                      0\n1         0       1                      0\n2         0       1                      0\n3         0       1                      0\n4         0       1                      0\n5         1       0                      0\n6         1       0                      0\n7         1       0                      0\n8         1       0                      0\n9         0       0                      1\n10        0       0                      1\n11        0       0                      1\n12        0       0                      1",
      "text/html": "<div>\n<style scoped>\n    .dataframe tbody tr th:only-of-type {\n        vertical-align: middle;\n    }\n\n    .dataframe tbody tr th {\n        vertical-align: top;\n    }\n\n    .dataframe thead th {\n        text-align: right;\n    }\n</style>\n<table border=\"1\" class=\"dataframe\">\n  <thead>\n    <tr style=\"text-align: right;\">\n      <th></th>\n      <th>Audi A5</th>\n      <th>BMW X5</th>\n      <th>Mercedez Benz C class</th>\n    </tr>\n  </thead>\n  <tbody>\n    <tr>\n      <th>0</th>\n      <td>0</td>\n      <td>1</td>\n      <td>0</td>\n    </tr>\n    <tr>\n      <th>1</th>\n      <td>0</td>\n      <td>1</td>\n      <td>0</td>\n    </tr>\n    <tr>\n      <th>2</th>\n      <td>0</td>\n      <td>1</td>\n      <td>0</td>\n    </tr>\n    <tr>\n      <th>3</th>\n      <td>0</td>\n      <td>1</td>\n      <td>0</td>\n    </tr>\n    <tr>\n      <th>4</th>\n      <td>0</td>\n      <td>1</td>\n      <td>0</td>\n    </tr>\n    <tr>\n      <th>5</th>\n      <td>1</td>\n      <td>0</td>\n      <td>0</td>\n    </tr>\n    <tr>\n      <th>6</th>\n      <td>1</td>\n      <td>0</td>\n      <td>0</td>\n    </tr>\n    <tr>\n      <th>7</th>\n      <td>1</td>\n      <td>0</td>\n      <td>0</td>\n    </tr>\n    <tr>\n      <th>8</th>\n      <td>1</td>\n      <td>0</td>\n      <td>0</td>\n    </tr>\n    <tr>\n      <th>9</th>\n      <td>0</td>\n      <td>0</td>\n      <td>1</td>\n    </tr>\n    <tr>\n      <th>10</th>\n      <td>0</td>\n      <td>0</td>\n      <td>1</td>\n    </tr>\n    <tr>\n      <th>11</th>\n      <td>0</td>\n      <td>0</td>\n      <td>1</td>\n    </tr>\n    <tr>\n      <th>12</th>\n      <td>0</td>\n      <td>0</td>\n      <td>1</td>\n    </tr>\n  </tbody>\n</table>\n</div>"
     },
     "metadata": {},
     "execution_count": 74
    }
   ],
   "source": [
    "dummies1"
   ]
  },
  {
   "cell_type": "code",
   "execution_count": 75,
   "metadata": {},
   "outputs": [],
   "source": [
    "merged1 = pd.concat([df1,dummies1], axis = 'columns')"
   ]
  },
  {
   "cell_type": "code",
   "execution_count": 76,
   "metadata": {},
   "outputs": [
    {
     "output_type": "execute_result",
     "data": {
      "text/plain": "                Car Model  Mileage  Sell Price($)  Age(yrs)  Audi A5  BMW X5  \\\n0                  BMW X5    69000          18000         6        0       1   \n1                  BMW X5    35000          34000         3        0       1   \n2                  BMW X5    57000          26100         5        0       1   \n3                  BMW X5    22500          40000         2        0       1   \n4                  BMW X5    46000          31500         4        0       1   \n5                 Audi A5    59000          29400         5        1       0   \n6                 Audi A5    52000          32000         5        1       0   \n7                 Audi A5    72000          19300         6        1       0   \n8                 Audi A5    91000          12000         8        1       0   \n9   Mercedez Benz C class    67000          22000         6        0       0   \n10  Mercedez Benz C class    83000          20000         7        0       0   \n11  Mercedez Benz C class    79000          21000         7        0       0   \n12  Mercedez Benz C class    59000          33000         5        0       0   \n\n    Mercedez Benz C class  \n0                       0  \n1                       0  \n2                       0  \n3                       0  \n4                       0  \n5                       0  \n6                       0  \n7                       0  \n8                       0  \n9                       1  \n10                      1  \n11                      1  \n12                      1  ",
      "text/html": "<div>\n<style scoped>\n    .dataframe tbody tr th:only-of-type {\n        vertical-align: middle;\n    }\n\n    .dataframe tbody tr th {\n        vertical-align: top;\n    }\n\n    .dataframe thead th {\n        text-align: right;\n    }\n</style>\n<table border=\"1\" class=\"dataframe\">\n  <thead>\n    <tr style=\"text-align: right;\">\n      <th></th>\n      <th>Car Model</th>\n      <th>Mileage</th>\n      <th>Sell Price($)</th>\n      <th>Age(yrs)</th>\n      <th>Audi A5</th>\n      <th>BMW X5</th>\n      <th>Mercedez Benz C class</th>\n    </tr>\n  </thead>\n  <tbody>\n    <tr>\n      <th>0</th>\n      <td>BMW X5</td>\n      <td>69000</td>\n      <td>18000</td>\n      <td>6</td>\n      <td>0</td>\n      <td>1</td>\n      <td>0</td>\n    </tr>\n    <tr>\n      <th>1</th>\n      <td>BMW X5</td>\n      <td>35000</td>\n      <td>34000</td>\n      <td>3</td>\n      <td>0</td>\n      <td>1</td>\n      <td>0</td>\n    </tr>\n    <tr>\n      <th>2</th>\n      <td>BMW X5</td>\n      <td>57000</td>\n      <td>26100</td>\n      <td>5</td>\n      <td>0</td>\n      <td>1</td>\n      <td>0</td>\n    </tr>\n    <tr>\n      <th>3</th>\n      <td>BMW X5</td>\n      <td>22500</td>\n      <td>40000</td>\n      <td>2</td>\n      <td>0</td>\n      <td>1</td>\n      <td>0</td>\n    </tr>\n    <tr>\n      <th>4</th>\n      <td>BMW X5</td>\n      <td>46000</td>\n      <td>31500</td>\n      <td>4</td>\n      <td>0</td>\n      <td>1</td>\n      <td>0</td>\n    </tr>\n    <tr>\n      <th>5</th>\n      <td>Audi A5</td>\n      <td>59000</td>\n      <td>29400</td>\n      <td>5</td>\n      <td>1</td>\n      <td>0</td>\n      <td>0</td>\n    </tr>\n    <tr>\n      <th>6</th>\n      <td>Audi A5</td>\n      <td>52000</td>\n      <td>32000</td>\n      <td>5</td>\n      <td>1</td>\n      <td>0</td>\n      <td>0</td>\n    </tr>\n    <tr>\n      <th>7</th>\n      <td>Audi A5</td>\n      <td>72000</td>\n      <td>19300</td>\n      <td>6</td>\n      <td>1</td>\n      <td>0</td>\n      <td>0</td>\n    </tr>\n    <tr>\n      <th>8</th>\n      <td>Audi A5</td>\n      <td>91000</td>\n      <td>12000</td>\n      <td>8</td>\n      <td>1</td>\n      <td>0</td>\n      <td>0</td>\n    </tr>\n    <tr>\n      <th>9</th>\n      <td>Mercedez Benz C class</td>\n      <td>67000</td>\n      <td>22000</td>\n      <td>6</td>\n      <td>0</td>\n      <td>0</td>\n      <td>1</td>\n    </tr>\n    <tr>\n      <th>10</th>\n      <td>Mercedez Benz C class</td>\n      <td>83000</td>\n      <td>20000</td>\n      <td>7</td>\n      <td>0</td>\n      <td>0</td>\n      <td>1</td>\n    </tr>\n    <tr>\n      <th>11</th>\n      <td>Mercedez Benz C class</td>\n      <td>79000</td>\n      <td>21000</td>\n      <td>7</td>\n      <td>0</td>\n      <td>0</td>\n      <td>1</td>\n    </tr>\n    <tr>\n      <th>12</th>\n      <td>Mercedez Benz C class</td>\n      <td>59000</td>\n      <td>33000</td>\n      <td>5</td>\n      <td>0</td>\n      <td>0</td>\n      <td>1</td>\n    </tr>\n  </tbody>\n</table>\n</div>"
     },
     "metadata": {},
     "execution_count": 76
    }
   ],
   "source": [
    "merged1"
   ]
  },
  {
   "cell_type": "code",
   "execution_count": 78,
   "metadata": {},
   "outputs": [],
   "source": [
    "final1 = merged1.drop(['Car Model', 'Mercedez Benz C class'], axis = 'columns')"
   ]
  },
  {
   "cell_type": "code",
   "execution_count": 79,
   "metadata": {},
   "outputs": [
    {
     "output_type": "execute_result",
     "data": {
      "text/plain": "    Mileage  Sell Price($)  Age(yrs)  Audi A5  BMW X5\n0     69000          18000         6        0       1\n1     35000          34000         3        0       1\n2     57000          26100         5        0       1\n3     22500          40000         2        0       1\n4     46000          31500         4        0       1\n5     59000          29400         5        1       0\n6     52000          32000         5        1       0\n7     72000          19300         6        1       0\n8     91000          12000         8        1       0\n9     67000          22000         6        0       0\n10    83000          20000         7        0       0\n11    79000          21000         7        0       0\n12    59000          33000         5        0       0",
      "text/html": "<div>\n<style scoped>\n    .dataframe tbody tr th:only-of-type {\n        vertical-align: middle;\n    }\n\n    .dataframe tbody tr th {\n        vertical-align: top;\n    }\n\n    .dataframe thead th {\n        text-align: right;\n    }\n</style>\n<table border=\"1\" class=\"dataframe\">\n  <thead>\n    <tr style=\"text-align: right;\">\n      <th></th>\n      <th>Mileage</th>\n      <th>Sell Price($)</th>\n      <th>Age(yrs)</th>\n      <th>Audi A5</th>\n      <th>BMW X5</th>\n    </tr>\n  </thead>\n  <tbody>\n    <tr>\n      <th>0</th>\n      <td>69000</td>\n      <td>18000</td>\n      <td>6</td>\n      <td>0</td>\n      <td>1</td>\n    </tr>\n    <tr>\n      <th>1</th>\n      <td>35000</td>\n      <td>34000</td>\n      <td>3</td>\n      <td>0</td>\n      <td>1</td>\n    </tr>\n    <tr>\n      <th>2</th>\n      <td>57000</td>\n      <td>26100</td>\n      <td>5</td>\n      <td>0</td>\n      <td>1</td>\n    </tr>\n    <tr>\n      <th>3</th>\n      <td>22500</td>\n      <td>40000</td>\n      <td>2</td>\n      <td>0</td>\n      <td>1</td>\n    </tr>\n    <tr>\n      <th>4</th>\n      <td>46000</td>\n      <td>31500</td>\n      <td>4</td>\n      <td>0</td>\n      <td>1</td>\n    </tr>\n    <tr>\n      <th>5</th>\n      <td>59000</td>\n      <td>29400</td>\n      <td>5</td>\n      <td>1</td>\n      <td>0</td>\n    </tr>\n    <tr>\n      <th>6</th>\n      <td>52000</td>\n      <td>32000</td>\n      <td>5</td>\n      <td>1</td>\n      <td>0</td>\n    </tr>\n    <tr>\n      <th>7</th>\n      <td>72000</td>\n      <td>19300</td>\n      <td>6</td>\n      <td>1</td>\n      <td>0</td>\n    </tr>\n    <tr>\n      <th>8</th>\n      <td>91000</td>\n      <td>12000</td>\n      <td>8</td>\n      <td>1</td>\n      <td>0</td>\n    </tr>\n    <tr>\n      <th>9</th>\n      <td>67000</td>\n      <td>22000</td>\n      <td>6</td>\n      <td>0</td>\n      <td>0</td>\n    </tr>\n    <tr>\n      <th>10</th>\n      <td>83000</td>\n      <td>20000</td>\n      <td>7</td>\n      <td>0</td>\n      <td>0</td>\n    </tr>\n    <tr>\n      <th>11</th>\n      <td>79000</td>\n      <td>21000</td>\n      <td>7</td>\n      <td>0</td>\n      <td>0</td>\n    </tr>\n    <tr>\n      <th>12</th>\n      <td>59000</td>\n      <td>33000</td>\n      <td>5</td>\n      <td>0</td>\n      <td>0</td>\n    </tr>\n  </tbody>\n</table>\n</div>"
     },
     "metadata": {},
     "execution_count": 79
    }
   ],
   "source": [
    "final1"
   ]
  },
  {
   "cell_type": "code",
   "execution_count": 81,
   "metadata": {},
   "outputs": [],
   "source": [
    "from sklearn.linear_model import LinearRegression\n",
    "model1 = LinearRegression()"
   ]
  },
  {
   "cell_type": "code",
   "execution_count": 86,
   "metadata": {},
   "outputs": [],
   "source": [
    "X = final1.drop('Sell Price($)', axis = 'columns')"
   ]
  },
  {
   "cell_type": "code",
   "execution_count": 87,
   "metadata": {},
   "outputs": [],
   "source": [
    "y = final1['Sell Price($)']"
   ]
  },
  {
   "cell_type": "code",
   "execution_count": 88,
   "metadata": {},
   "outputs": [
    {
     "output_type": "execute_result",
     "data": {
      "text/plain": "0     18000\n1     34000\n2     26100\n3     40000\n4     31500\n5     29400\n6     32000\n7     19300\n8     12000\n9     22000\n10    20000\n11    21000\n12    33000\nName: Sell Price($), dtype: int64"
     },
     "metadata": {},
     "execution_count": 88
    }
   ],
   "source": [
    "y"
   ]
  },
  {
   "cell_type": "code",
   "execution_count": 90,
   "metadata": {},
   "outputs": [
    {
     "output_type": "execute_result",
     "data": {
      "text/plain": "LinearRegression()"
     },
     "metadata": {},
     "execution_count": 90
    }
   ],
   "source": [
    "model1.fit(X,y)"
   ]
  },
  {
   "cell_type": "code",
   "execution_count": 91,
   "metadata": {},
   "outputs": [
    {
     "output_type": "execute_result",
     "data": {
      "text/plain": "array([36991.31721061])"
     },
     "metadata": {},
     "execution_count": 91
    }
   ],
   "source": [
    "model1.predict([[45000,4,0,0]])"
   ]
  },
  {
   "cell_type": "code",
   "execution_count": 92,
   "metadata": {},
   "outputs": [
    {
     "output_type": "execute_result",
     "data": {
      "text/plain": "array([11080.74313219])"
     },
     "metadata": {},
     "execution_count": 92
    }
   ],
   "source": [
    "model1.predict([[86000,7,0,1]])"
   ]
  },
  {
   "cell_type": "code",
   "execution_count": 94,
   "metadata": {},
   "outputs": [
    {
     "output_type": "execute_result",
     "data": {
      "text/plain": "0.9417050937281082"
     },
     "metadata": {},
     "execution_count": 94
    }
   ],
   "source": [
    "model.score(X,y)"
   ]
  }
 ],
 "metadata": {
  "language_info": {
   "codemirror_mode": {
    "name": "ipython",
    "version": 3
   },
   "file_extension": ".py",
   "mimetype": "text/x-python",
   "name": "python",
   "nbconvert_exporter": "python",
   "pygments_lexer": "ipython3",
   "version": "3.8.2-final"
  },
  "orig_nbformat": 2,
  "kernelspec": {
   "name": "python38264bit37d95f33953b4f91b6de8b4e6f9f21cc",
   "display_name": "Python 3.8.2 64-bit"
  }
 },
 "nbformat": 4,
 "nbformat_minor": 2
}